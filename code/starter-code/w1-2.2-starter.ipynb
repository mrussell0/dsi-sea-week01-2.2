{
 "cells": [
  {
   "cell_type": "code",
   "execution_count": null,
   "metadata": {
    "collapsed": true
   },
   "outputs": [],
   "source": [
    "# write a function with one argument. Find the area of a square. \n",
    "height = 5\n",
    "width = 9\n",
    "depth = 4\n",
    "\n",
    "def sqArea(height):\n",
    "    print \"Area of the square is: \", (height * height)\n",
    "sqArea(height)"
   ]
  },
  {
   "cell_type": "code",
   "execution_count": 2,
   "metadata": {
    "collapsed": false
   },
   "outputs": [],
   "source": [
    "# write a function with two arguments. Find the area of a rectangle. \n",
    "def recArea(height, width):\n",
    "    print \"Area of the retangle is: \", (height * width)\n",
    "recArea(height, width)\n"
   ]
  },
  {
   "cell_type": "code",
   "execution_count": 5,
   "metadata": {
    "collapsed": false
   },
   "outputs": [],
   "source": [
    "# write a function with three arguments. Find the surface area of cuboid.\n",
    "def cubArea(height, width, depth):\n",
    "    print \"Area of the Cuboid is: \", (2 * height * 2 * width * 2 * depth)\n",
    "cubArea(height, width, depth)"
   ]
  },
  {
   "cell_type": "code",
   "execution_count": null,
   "metadata": {
    "collapsed": true
   },
   "outputs": [],
   "source": [
    "## Bonus\n",
    "\n",
    "#print the max value in a list\n",
    "maxNum = [1,3,4]\n",
    "def biggest(maxNum):\n",
    "    print \"The max is: \", max(maxNum)\n",
    "biggest(maxNum)"
   ]
  },
  {
   "cell_type": "code",
   "execution_count": null,
   "metadata": {
    "collapsed": true
   },
   "outputs": [],
   "source": [
    "#sum items in a list\n",
    "total = [8, 2, 3, 0, 7]\n",
    "def tot(total):\n",
    "    print \"Sum of this list is:\", sum(total)\n",
    "tot(total)\n"
   ]
  },
  {
   "cell_type": "code",
   "execution_count": null,
   "metadata": {
    "collapsed": true
   },
   "outputs": [],
   "source": [
    "#multiply items in a list\n",
    "mylist = [8, 2, 3, -1, 7]\n",
    "def listMulti(mylist):\n",
    "    total = 1\n",
    "    for i in range(0,len(mylist)):\n",
    "        total *= mylist[i]\n",
    "    print total\n",
    "listMulti(mylist)"
   ]
  },
  {
   "cell_type": "code",
   "execution_count": null,
   "metadata": {
    "collapsed": true
   },
   "outputs": [],
   "source": [
    "#reverse a string\n",
    "myString = \"1234abcd\"\n",
    "def rewind(myString):\n",
    "    print myString[::-1]\n",
    "rewind(myString)"
   ]
  },
  {
   "cell_type": "code",
   "execution_count": null,
   "metadata": {
    "collapsed": true
   },
   "outputs": [],
   "source": [
    "#factorial\n",
    "factorial = 1\n",
    "num = 8\n",
    "def fact(factorial, num):\n",
    "    for i in range(1, num +1):\n",
    "        factorial += i\n",
    "        print \"The factorial is\", factorial\n",
    "fact(num, factorial)"
   ]
  },
  {
   "cell_type": "code",
   "execution_count": null,
   "metadata": {
    "collapsed": true
   },
   "outputs": [],
   "source": [
    "#check if a number is in a given range. return bool\n",
    "num = 8\n",
    "def rangeCheck(num):\n",
    "    print num in range(100)\n",
    "rangeCheck(num)"
   ]
  },
  {
   "cell_type": "code",
   "execution_count": null,
   "metadata": {
    "collapsed": true
   },
   "outputs": [],
   "source": [
    "#calc upper and lower case charecters\n",
    "myString = \"The quick Brow Fox\"\n",
    "def caseCalc(myString):\n",
    "    upr = 0\n",
    "    lwr = 0\n",
    "    for i in myString:\n",
    "        if i.isupper():\n",
    "            upr +=1\n",
    "        else:\n",
    "            i.islower()\n",
    "            lwr +=1\n",
    "    print \"There are %d upppercase\" % upr, \"and %d lowercase\" % lwr\n",
    "caseCalc(myString)"
   ]
  },
  {
   "cell_type": "code",
   "execution_count": null,
   "metadata": {
    "collapsed": true
   },
   "outputs": [],
   "source": [
    "#unique items in list\n",
    "myList = [1,2,3,3,3,3,4,5]\n",
    "def checkList(myList):\n",
    "    unList = []\n",
    "    for i in myList:\n",
    "        if i not in unList:\n",
    "            unList.append(i)\n",
    "    print unList\n",
    "checkList(myList)\n"
   ]
  },
  {
   "cell_type": "code",
   "execution_count": null,
   "metadata": {
    "collapsed": true
   },
   "outputs": [],
   "source": [
    "#find prime number\n",
    "num = 17\n",
    "def primeCheck(num):\n",
    "    if num > 1:\n",
    "        for i in range(2,num):\n",
    "            if (num % i) == 0:\n",
    "                print \"%d is not prime\" % num\n",
    "                break\n",
    "        else:\n",
    "            print \"%d is prime\" % num\n",
    "    else:\n",
    "        print \"%d is not a prime\" % num\n",
    "primeCheck(num)"
   ]
  },
  {
   "cell_type": "code",
   "execution_count": null,
   "metadata": {
    "collapsed": true
   },
   "outputs": [],
   "source": [
    "#find even\n",
    "myList = [1, 2, 3, 4, 5, 6, 7, 8, 9]\n",
    "def getEven(myList):\n",
    "    evenList = []\n",
    "    for i in myList:\n",
    "        if i % 2 == 0:\n",
    "            evenList.append(i)\n",
    "    print evenList\n",
    "getEven(myList)"
   ]
  },
  {
   "cell_type": "code",
   "execution_count": null,
   "metadata": {
    "collapsed": true
   },
   "outputs": [],
   "source": []
  }
 ],
 "metadata": {
  "anaconda-cloud": {},
  "kernelspec": {
   "display_name": "Python [default]",
   "language": "python",
   "name": "python2"
  },
  "language_info": {
   "codemirror_mode": {
    "name": "ipython",
    "version": 2
   },
   "file_extension": ".py",
   "mimetype": "text/x-python",
   "name": "python",
   "nbconvert_exporter": "python",
   "pygments_lexer": "ipython2",
   "version": "2.7.12"
  }
 },
 "nbformat": 4,
 "nbformat_minor": 0
}
